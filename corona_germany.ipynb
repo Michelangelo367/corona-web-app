{
 "cells": [
  {
   "cell_type": "code",
   "execution_count": 1,
   "metadata": {},
   "outputs": [],
   "source": [
    "import numpy as np\n",
    "import pandas as pd\n",
    "import matplotlib.pyplot as plt\n",
    "import ipywidgets as widgets\n",
    "\n",
    "data_cases = pd.read_csv(\"https://github.com/CSSEGISandData/COVID-19/raw/master/csse_covid_19_data/csse_covid_19_time_series/time_series_covid19_confirmed_global.csv\")\n",
    "data_deaths = pd.read_csv(\"https://github.com/CSSEGISandData/COVID-19/raw/master/csse_covid_19_data/csse_covid_19_time_series/time_series_covid19_deaths_global.csv\")\n",
    "data_recovered = pd.read_csv(\"https://github.com/CSSEGISandData/COVID-19/raw/master/csse_covid_19_data/csse_covid_19_time_series/time_series_covid19_recovered_global.csv\")\n",
    "\n",
    "#dates = data_cases...\n",
    "country = \"Germany\"\n",
    "germany_cases = data_cases.loc[data_cases[\"Country/Region\"] == country]\n",
    "germany_deaths = data_deaths.loc[data_deaths[\"Country/Region\"] == country]\n",
    "germany_recovered = data_recovered.loc[data_recovered[\"Country/Region\"] == country]\n",
    "cases = germany_cases.to_numpy()[0][4:]\n",
    "deaths = germany_deaths.to_numpy()[0][4:]\n",
    "recovered = germany_recovered.to_numpy()[0][4:]\n",
    "\n",
    "# reformatting to daily data\n",
    "daily_cases = [0]\n",
    "daily_deaths = [0]\n",
    "daily_recovered = [0]\n",
    "for i in range(1,len(cases)):\n",
    "    daily_cases.append(cases[i]-cases[i-1])\n",
    "    daily_deaths.append(deaths[i]-deaths[i-1])\n",
    "    daily_recovered.append(recovered[i]-recovered[i-1])\n",
    "daily_deaths = [abs(num) for num in daily_deaths]"
   ]
  },
  {
   "cell_type": "code",
   "execution_count": 3,
   "metadata": {
    "scrolled": false
   },
   "outputs": [
    {
     "data": {
      "application/vnd.jupyter.widget-view+json": {
       "model_id": "f73ed07c621740629d3638e82489025d",
       "version_major": 2,
       "version_minor": 0
      },
      "text/plain": [
       "HBox(children=(Dropdown(options=(('cases', [[0, 0, 0, 0, 0, 1, 3, 0, 0, 1, 3, 2, 2, 0, 0, 0, 1, 0, 1, 0, 2, 0,…"
      ]
     },
     "metadata": {},
     "output_type": "display_data"
    },
    {
     "data": {
      "application/vnd.jupyter.widget-view+json": {
       "model_id": "9152c9e7bc7c46b59f15eaaf5d4a8c9c",
       "version_major": 2,
       "version_minor": 0
      },
      "text/plain": [
       "Output()"
      ]
     },
     "metadata": {},
     "output_type": "display_data"
    }
   ],
   "source": [
    "# creating two widgets 'data' and 'days'\n",
    "data = widgets.Dropdown(\n",
    "    options=[(\"cases\", [daily_cases,\"Daily Cases\", \"b\"]),\n",
    "         (\"deaths\", [daily_deaths, \"Daily Deaths\", \"r\"]),\n",
    "         (\"recovered\", [daily_recovered, \"Daily Recovered\", \"g\"])],\n",
    "    value=[daily_cases,\"Daily Cases\", \"b\"],)\n",
    "days = widgets.IntSlider(value=len(daily_cases), min=20, max=len(daily_cases), step=20)\n",
    "\n",
    "# specify ui layout of two widgets\n",
    "ui = widgets.HBox([data, days])\n",
    "\n",
    "# function wrapping creating of graph\n",
    "def disp(data, days):\n",
    "    plt.figure(figsize=[12,4])\n",
    "    plt.bar(range(days), data[0][-days:], width=1.0, color=data[2])\n",
    "    plt.grid(True)\n",
    "    plt.title(f\"{data[1]}\")\n",
    "\n",
    "# callig the function and specifying variables\n",
    "out = widgets.interactive_output(disp, {'data': data, 'days': days})\n",
    "display(ui, out)"
   ]
  }
 ],
 "metadata": {
  "kernelspec": {
   "display_name": "Python 3",
   "language": "python",
   "name": "python3"
  },
  "language_info": {
   "codemirror_mode": {
    "name": "ipython",
    "version": 3
   },
   "file_extension": ".py",
   "mimetype": "text/x-python",
   "name": "python",
   "nbconvert_exporter": "python",
   "pygments_lexer": "ipython3",
   "version": "3.7.7"
  }
 },
 "nbformat": 4,
 "nbformat_minor": 4
}
